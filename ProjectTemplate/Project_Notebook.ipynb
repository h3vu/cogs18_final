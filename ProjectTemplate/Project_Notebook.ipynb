{
 "cells": [
  {
   "cell_type": "markdown",
   "metadata": {},
   "source": [
    "# Project Description"
   ]
  },
  {
   "cell_type": "markdown",
   "metadata": {},
   "source": [
    "My project retrieves real-time stock data then displays information about the stock, creates a table that shows the percentage change from minute to minute for the past 5 minutes, takes a mean of the 5 minutes of change to determine if the stock is volitile or not, then determines whether or not the stock chosen is in the Big Five or not. If it is, it will take the give the name of the company's CEO. "
   ]
  },
  {
   "cell_type": "code",
   "execution_count": 23,
   "metadata": {},
   "outputs": [],
   "source": [
    "from my_module.functions import *\n",
    "from my_module.test_functions import *"
   ]
  },
  {
   "cell_type": "code",
   "execution_count": 25,
   "metadata": {},
   "outputs": [
    {
     "name": "stdout",
     "output_type": "stream",
     "text": [
      "STOR\n",
      "                     1. open  2. high   3. low  4. close  5. volume\n",
      "date                                                               \n",
      "2020-06-12 14:14:00  23.0600   23.060  23.0450   23.0450     2447.0\n",
      "2020-06-12 14:13:00  23.0085   23.060  22.9800   23.0500    12002.0\n",
      "2020-06-12 14:12:00  23.0000   23.010  22.9900   23.0100     7807.0\n",
      "2020-06-12 14:11:00  22.9300   23.000  22.9275   23.0000     4726.0\n",
      "2020-06-12 14:10:00  22.9000   22.940  22.9000   22.9200     3667.0\n",
      "...                      ...      ...      ...       ...        ...\n",
      "2020-06-08 09:35:00  26.3100   26.320  26.2699   26.2700    25044.0\n",
      "2020-06-08 09:34:00  26.4532   26.465  26.2200   26.3300    31045.0\n",
      "2020-06-08 09:33:00  26.2500   26.490  26.1900   26.4500    38059.0\n",
      "2020-06-08 09:32:00  26.3400   26.400  26.2100   26.2725    26907.0\n",
      "2020-06-08 09:31:00  27.1100   27.150  26.3000   26.3000   192789.0\n",
      "\n",
      "[1843 rows x 5 columns]\n",
      "date\n",
      "2020-06-12 14:14:00         NaN\n",
      "2020-06-12 14:13:00    0.000217\n",
      "2020-06-12 14:12:00   -0.001735\n",
      "2020-06-12 14:11:00   -0.000435\n",
      "2020-06-12 14:10:00   -0.003478\n",
      "                         ...   \n",
      "2020-06-08 09:35:00    0.002863\n",
      "2020-06-08 09:34:00    0.002284\n",
      "2020-06-08 09:33:00    0.004558\n",
      "2020-06-08 09:32:00   -0.006711\n",
      "2020-06-08 09:31:00    0.001047\n",
      "Name: 4. close, Length: 1843, dtype: float64\n",
      "date\n",
      "2020-06-12 13:33:00         NaN\n",
      "2020-06-12 13:32:00    0.001660\n",
      "2020-06-12 13:31:00    0.002635\n",
      "2020-06-12 13:30:00    0.000214\n",
      "2020-06-12 13:29:00   -0.000210\n",
      "Name: percent_change, dtype: float64\n",
      "0.0010747946199357594\n",
      "Average Percentage Change Over 5 Minutes:\n",
      "0.0010747946199357594\n",
      "The stock is volatile.\n",
      "STOR is not a stock in the Big Five. Please look up the CEO.\n"
     ]
    },
    {
     "data": {
      "text/plain": [
       "'STOR is not a stock in the Big Five. Please look up the CEO.'"
      ]
     },
     "execution_count": 25,
     "metadata": {},
     "output_type": "execute_result"
    }
   ],
   "source": [
    "from alpha_vantage.timeseries import TimeSeries\n",
    "from my_module.functions import price_change, past_five_minutes, stock_volatility, big_five\n",
    "\n",
    "stock_name = 'STOR'\n",
    "\n",
    "price_change('STOR')\n",
    "#percent_change_per_minute = price_change(stock_name)\n",
    "\n",
    "past_five_minutes(percent_change_per_minute)\n",
    "print(past_five_minutes(percent_change_per_minute))\n",
    "mean_of_five_minutes = past_five_minutes(percent_change_per_minute).mean()\n",
    "\n",
    "stock_volatility(mean_of_five_minutes)\n",
    "\n",
    "big_five(stock_name)"
   ]
  }
 ],
 "metadata": {
  "kernelspec": {
   "display_name": "Python 3",
   "language": "python",
   "name": "python3"
  },
  "language_info": {
   "codemirror_mode": {
    "name": "ipython",
    "version": 3
   },
   "file_extension": ".py",
   "mimetype": "text/x-python",
   "name": "python",
   "nbconvert_exporter": "python",
   "pygments_lexer": "ipython3",
   "version": "3.7.6"
  }
 },
 "nbformat": 4,
 "nbformat_minor": 4
}
